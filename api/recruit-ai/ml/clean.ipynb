{
 "metadata": {
  "language_info": {
   "codemirror_mode": {
    "name": "ipython",
    "version": 3
   },
   "file_extension": ".py",
   "mimetype": "text/x-python",
   "name": "python",
   "nbconvert_exporter": "python",
   "pygments_lexer": "ipython3",
   "version": "3.7.2"
  },
  "orig_nbformat": 2,
  "kernelspec": {
   "name": "python372jvsc74a57bd02399c2d73aba4493b4671804bb557320b7135cfc6623a831aff7502bddb72d8b",
   "display_name": "Python 3.7.2 32-bit"
  },
  "metadata": {
   "interpreter": {
    "hash": "2399c2d73aba4493b4671804bb557320b7135cfc6623a831aff7502bddb72d8b"
   }
  }
 },
 "nbformat": 4,
 "nbformat_minor": 2,
 "cells": [
  {
   "cell_type": "code",
   "execution_count": 8,
   "metadata": {
    "tags": []
   },
   "outputs": [
    {
     "output_type": "stream",
     "name": "stdout",
     "text": [
      "[['Name' 'none' 'none' ... 'none' 'none' 'none']\n ['Kacen Gantt' 'C, F' '664' ... '1.7' '3.1' '2.2']\n ['Chapman  Faulkner' 'F, G' '597' ... '3.2' '3.6' '2.8']\n ...\n ['Mark Albers' 'G' '705' ... nan nan nan]\n ['T.j. Gray' 'G' '376' ... '1.1' '4.3' '4.3']\n ['Garrett Thackeray' 'C, PF' '566' ... '1.3' '1.5' '3.5']]\n"
     ]
    }
   ],
   "source": [
    "import numpy as np\n",
    "import pandas as pd\n",
    "\n",
    "hs_data = pd.read_csv(\"data/basketball-1.csv\").to_numpy()\n",
    "for i in range(2, 8):\n",
    "    hs_data = np.append(hs_data, pd.read_csv(\"data/basketball-%d.csv\" % i).to_numpy(), axis=0)\n",
    "\n",
    "for i in range(0, hs_data.shape[0]):\n",
    "    try:\n",
    "        index = hs_data[i][0].index(\" -\")\n",
    "        hs_data[i][0] = hs_data[i][0][:index]\n",
    "    except:\n",
    "        pass\n",
    "\n",
    "print(hs_data.shape)"
   ]
  },
  {
   "cell_type": "code",
   "execution_count": 9,
   "metadata": {},
   "outputs": [],
   "source": [
    "import csv\n",
    "\n",
    "with open(\"hs_data_clean.csv\", mode=\"w\") as hs_file:\n",
    "    hs_file_writer = csv.writer(hs_file, delimiter=\",\", quotechar='\"')\n",
    "    for i in range(0, hs_data.shape[0]):\n",
    "        hs_file_writer.writerow(hs_data[i])"
   ]
  },
  {
   "cell_type": "code",
   "execution_count": null,
   "metadata": {},
   "outputs": [],
   "source": []
  }
 ]
}