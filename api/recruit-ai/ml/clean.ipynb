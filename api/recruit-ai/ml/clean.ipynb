{
 "metadata": {
  "language_info": {
   "codemirror_mode": {
    "name": "ipython",
    "version": 3
   },
   "file_extension": ".py",
   "mimetype": "text/x-python",
   "name": "python",
   "nbconvert_exporter": "python",
   "pygments_lexer": "ipython3",
   "version": "3.7.2"
  },
  "orig_nbformat": 2,
  "kernelspec": {
   "name": "python372jvsc74a57bd02399c2d73aba4493b4671804bb557320b7135cfc6623a831aff7502bddb72d8b",
   "display_name": "Python 3.7.2 32-bit"
  },
  "metadata": {
   "interpreter": {
    "hash": "2399c2d73aba4493b4671804bb557320b7135cfc6623a831aff7502bddb72d8b"
   }
  }
 },
 "nbformat": 4,
 "nbformat_minor": 2,
 "cells": [
  {
   "cell_type": "code",
   "execution_count": 31,
   "metadata": {
    "tags": []
   },
   "outputs": [
    {
     "output_type": "stream",
     "name": "stdout",
     "text": [
      "(561, 10)\n(561, 1)\n(4401, 11)\n"
     ]
    }
   ],
   "source": [
    "import numpy as np\n",
    "import pandas as pd\n",
    "\n",
    "hs_data = pd.read_csv(\"data/basketball-1.csv\").to_numpy()\n",
    "print(hs_data.shape)\n",
    "print(np.array([np.ones(hs_data.shape[0])]).T.shape)\n",
    "hs_data = np.append(hs_data, 13*np.array([np.ones(hs_data.shape[0])]).T, 1)\n",
    "del_indices = []\n",
    "for i in range(1, 8):\n",
    "    temp_data = pd.read_csv(\"data/basketball-%d.csv\" % i).to_numpy()\n",
    "    hs_data = np.append(hs_data, np.append(temp_data, (13+i)*np.array([np.ones(temp_data.shape[0])]).T, 1), axis=0)\n",
    "\n",
    "for i in range(0, hs_data.shape[0]):\n",
    "    try:\n",
    "        index = hs_data[i][0].index(\" -\")\n",
    "        hs_data[i][0] = hs_data[i][0][:index]\n",
    "    except:\n",
    "        pass \n",
    "    if hs_data[i][0] == \"Name\" and i > 0:\n",
    "        del_indices.append(i)\n",
    "\n",
    "del_indices = np.array(del_indices)\n",
    "for i in del_indices:\n",
    "    hs_data = np.delete(hs_data, i, 0)\n",
    "    del_indices -= 1\n",
    "\n",
    "print(hs_data.shape)"
   ]
  },
  {
   "cell_type": "code",
   "execution_count": 30,
   "metadata": {},
   "outputs": [],
   "source": [
    "import csv\n",
    "\n",
    "with open(\"hs_data_clean.csv\", mode=\"w\") as hs_file:\n",
    "    hs_file_writer = csv.writer(hs_file, delimiter=\",\", quotechar='\"')\n",
    "    for i in range(0, hs_data.shape[0]):\n",
    "        hs_file_writer.writerow(hs_data[i])"
   ]
  },
  {
   "cell_type": "code",
   "execution_count": null,
   "metadata": {},
   "outputs": [],
   "source": []
  }
 ]
}