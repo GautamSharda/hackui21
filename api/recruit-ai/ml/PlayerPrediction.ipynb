{
 "metadata": {
  "language_info": {
   "codemirror_mode": {
    "name": "ipython",
    "version": 3
   },
   "file_extension": ".py",
   "mimetype": "text/x-python",
   "name": "python",
   "nbconvert_exporter": "python",
   "pygments_lexer": "ipython3",
   "version": "3.7.2"
  },
  "orig_nbformat": 2,
  "kernelspec": {
   "name": "python372jvsc74a57bd02399c2d73aba4493b4671804bb557320b7135cfc6623a831aff7502bddb72d8b",
   "display_name": "Python 3.7.2 32-bit"
  },
  "metadata": {
   "interpreter": {
    "hash": "2399c2d73aba4493b4671804bb557320b7135cfc6623a831aff7502bddb72d8b"
   }
  }
 },
 "nbformat": 4,
 "nbformat_minor": 2,
 "cells": [
  {
   "cell_type": "code",
   "execution_count": 1,
   "metadata": {},
   "outputs": [],
   "source": [
    "# imports and fixed params\n",
    "import numpy as np\n",
    "import pandas as pd\n",
    "import matplotlib.pyplot as plt\n",
    "from least_squares import regress"
   ]
  },
  {
   "cell_type": "code",
   "execution_count": 2,
   "metadata": {},
   "outputs": [
    {
     "output_type": "stream",
     "name": "stdout",
     "text": [
      "(16432, 11)\n(3850, 11)\n"
     ]
    }
   ],
   "source": [
    "college_data = pd.read_csv(\"data/players2014.csv\").to_numpy()\n",
    "for i in range(15, 21):\n",
    "    college_data = np.append(college_data, pd.read_csv(\"data/players20%d.csv\" % i).to_numpy(), axis=0)\n",
    "college_data = college_data[college_data[:, 1].argsort()]\n",
    "print(college_data.shape)\n",
    "\n",
    "hs_data = pd.read_csv(\"data/hs_data_clean.csv\").to_numpy()\n",
    "print(hs_data.shape)"
   ]
  },
  {
   "cell_type": "code",
   "execution_count": 3,
   "metadata": {},
   "outputs": [
    {
     "output_type": "stream",
     "name": "stdout",
     "text": [
      "(185, 11)\n(185, 11)\n"
     ]
    }
   ],
   "source": [
    "names = college_data[:,1]\n",
    "hs_indices = []\n",
    "college_indices = []\n",
    "for i in range(hs_data.shape[0]):\n",
    "    index = np.searchsorted(names, hs_data[i][0])\n",
    "    if index < len(names) and names[index] == hs_data[i][0]:\n",
    "        college_indices.append(index)\n",
    "        hs_indices.append(i)\n",
    " \n",
    "college_indices = np.array(college_indices)\n",
    "college_data_made_it = college_data[college_indices,:]\n",
    "college_data_made_it = college_data_made_it[college_data_made_it[:, 1].argsort()]\n",
    "\n",
    "hs_indices = np.array(hs_indices)\n",
    "hs_data_made_it = hs_data[hs_indices,:]\n",
    "hs_data_made_it = hs_data_made_it[hs_data_made_it[:, 0].argsort()]\n",
    "\n",
    "print(hs_data_made_it.shape)\n",
    "print(college_data_made_it.shape)"
   ]
  },
  {
   "source": [
    "X_data = np.array(hs_data_made_it[:,2:-1]).astype(np.float)\n",
    "print(X_data.shape)\n",
    "\n",
    "Y_data = np.array(college_data_made_it[:,5]).astype(np.float)\n",
    "Y_data = np.array([Y_data]).T\n",
    "print(Y_data.shape)\n",
    "\n",
    "data = np.append(X_data, Y_data, axis=1)\n",
    "print(hs_data_made_it[0])\n",
    "print(college_data_made_it[0])\n",
    "print(data[0])\n",
    "data = np.nan_to_num(data)\n",
    "\n",
    "print()\n",
    "x_hat = regress(1, .3, data)\n",
    "print(x_hat)\n",
    "\n",
    "print(hs_data[0])\n",
    "print(np.dot(hs_data[0][2:-1], x_hat))"
   ],
   "cell_type": "code",
   "metadata": {},
   "execution_count": 4,
   "outputs": [
    {
     "output_type": "stream",
     "name": "stdout",
     "text": [
      "(185, 8)\n(185, 1)\n['Alex Copeland' 'G' 783 28.0 29.0 3.7 2.8 3.7 2.7 2.3 20.0]\n[382 'Alex Copeland' 'YALE' 30 28.7 2.3 3.4 1.2 0.0 0.0 2019]\n[783.   28.   29.    3.7   2.8   3.7   2.7   2.3   2.3]\n\nResults using Least squares:\ninside [2.3 2.3 2.7 3.1 1.8 4.  2.5 2.6 2.5 2.5 2.6 0.  0.  2.9 2.9 2.9 0.  1.9\n 1.9 6.  2.7 2.7 0.  4.1 3.7 3.7 2.3 0.  2.  2.  3.2 0.  2.6 0.  0.  3.4\n 0.  1.8 0.  2.5 2.7 0.  2.6 3.2 3.2 1.7 2.3 0.  0.  2.9 3.1 2.2 2.4 3.3\n 1.7 1.7 2.9 0.  0.  0.  2.4 0.  0.  2.7 2.7 3.4 2.6 2.5 0.  0.  0.  3.\n 3.  3.2 1.9 1.9 4.2 0.  2.6 2.5 2.3 0.  0.  0.  0.  0.  0.  3.2 0.  0.\n 0.  0.  0.  1.8 0.  0.  0.  2.7 2.3 2.  2.2 2.8 2.4 2.9 0.  2.5 2.4 2.7\n 3.3 3.3 6.1 0.  3.7 2.9 3.1 0.  1.1 2.3 2.3 2.5 2.6 0.  4.2 3.9 3.9 2.5\n 2.8 2.5 4.5 0.  0.  0.  0.  0.  3.1 0.  1.8 1.8 0.  2.6 1.9 2.9 4.  3.5\n 1.9 1.9 2.7 4.  2.2 2.2 4.  2.9 3.  1.9 2.5 4.3 3.2 3.2 0.  5.1 1.8 2.6\n 1.8 2.9 2.9 2.6 1.9 0.  0.  0.  0.  0.  1.7 0.  2.7 2.7 2.7 2.  3.  1.9\n 1.4 1.9 1.4 1.8 1.8]\nTraining Data:\n    Accuracy: 1.0\nTest Data:\n    Accuracy: 1.0\n[ 6.29491397e-05 -3.23561176e-02 -5.17631866e-03  1.18039282e-02\n  2.80298090e-04 -1.57518621e-02 -1.60835140e-02 -2.15958950e-02]\n['Kacen Gantt' 'C, F' 664 28.9 46.7 0.6 13.4 1.7 3.1 2.2 13.0]\n-1.248337326965792\n"
     ]
    }
   ]
  },
  {
   "cell_type": "code",
   "execution_count": null,
   "metadata": {},
   "outputs": [],
   "source": []
  }
 ]
}