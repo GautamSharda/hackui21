{
 "metadata": {
  "language_info": {
   "codemirror_mode": {
    "name": "ipython",
    "version": 3
   },
   "file_extension": ".py",
   "mimetype": "text/x-python",
   "name": "python",
   "nbconvert_exporter": "python",
   "pygments_lexer": "ipython3",
   "version": "3.7.2"
  },
  "orig_nbformat": 2,
  "kernelspec": {
   "name": "python372jvsc74a57bd02399c2d73aba4493b4671804bb557320b7135cfc6623a831aff7502bddb72d8b",
   "display_name": "Python 3.7.2 32-bit"
  },
  "metadata": {
   "interpreter": {
    "hash": "2399c2d73aba4493b4671804bb557320b7135cfc6623a831aff7502bddb72d8b"
   }
  }
 },
 "nbformat": 4,
 "nbformat_minor": 2,
 "cells": [
  {
   "cell_type": "code",
   "execution_count": 1,
   "metadata": {},
   "outputs": [],
   "source": [
    "# imports and fixed params\n",
    "import numpy as np\n",
    "import pandas as pd\n",
    "import matplotlib.pyplot as plt\n",
    "from least_squares import regress"
   ]
  },
  {
   "cell_type": "code",
   "execution_count": 2,
   "metadata": {},
   "outputs": [
    {
     "output_type": "stream",
     "name": "stdout",
     "text": [
      "(16432, 11)\n(3850, 11)\n"
     ]
    }
   ],
   "source": [
    "college_data = pd.read_csv(\"data/players2014.csv\").to_numpy()\n",
    "for i in range(15, 21):\n",
    "    college_data = np.append(college_data, pd.read_csv(\"data/players20%d.csv\" % i).to_numpy(), axis=0)\n",
    "college_data = college_data[college_data[:, 1].argsort()]\n",
    "print(college_data.shape)\n",
    "\n",
    "hs_data = pd.read_csv(\"data/hs_data_clean.csv\").to_numpy()\n",
    "print(hs_data.shape)"
   ]
  },
  {
   "cell_type": "code",
   "execution_count": 3,
   "metadata": {},
   "outputs": [
    {
     "output_type": "stream",
     "name": "stdout",
     "text": [
      "(185, 11)\n(185, 11)\n"
     ]
    }
   ],
   "source": [
    "names = college_data[:,1]\n",
    "hs_indices = []\n",
    "college_indices = []\n",
    "for i in range(hs_data.shape[0]):\n",
    "    index = np.searchsorted(names, hs_data[i][0])\n",
    "    if index < len(names) and names[index] == hs_data[i][0]:\n",
    "        college_indices.append(index)\n",
    "        hs_indices.append(i)\n",
    " \n",
    "college_indices = np.array(college_indices)\n",
    "college_data_made_it = college_data[college_indices,:]\n",
    "\n",
    "hs_indices = np.array(hs_indices)\n",
    "hs_data_made_it = hs_data[hs_indices,:]\n",
    "\n",
    "print(hs_data_made_it.shape)\n",
    "print(college_data_made_it.shape)"
   ]
  },
  {
   "source": [
    "X_data = np.array(hs_data_made_it[:,2:]).astype(np.float)\n",
    "print(X_data.shape)\n",
    "print(college_data_made_it[1])\n",
    "Y_data = np.array(college_data_made_it[:,3]).astype(np.float)\n",
    "print(Y_data.shape)\n",
    "regress(1, .3, data)"
   ],
   "cell_type": "code",
   "metadata": {},
   "execution_count": 7,
   "outputs": [
    {
     "output_type": "stream",
     "name": "stdout",
     "text": [
      "(185, 9)\n[2118 'Jordan King' 'SC' 30 18.0 1.3 0.7 0.5 0.0 0.0 2020]\n(185,)\n"
     ]
    },
    {
     "output_type": "error",
     "ename": "NameError",
     "evalue": "name 'data' is not defined",
     "traceback": [
      "\u001b[1;31m---------------------------------------------------------------------------\u001b[0m",
      "\u001b[1;31mNameError\u001b[0m                                 Traceback (most recent call last)",
      "\u001b[1;32m<ipython-input-7-10d27e8c9633>\u001b[0m in \u001b[0;36m<module>\u001b[1;34m\u001b[0m\n\u001b[0;32m      4\u001b[0m \u001b[0mY_data\u001b[0m \u001b[1;33m=\u001b[0m \u001b[0mnp\u001b[0m\u001b[1;33m.\u001b[0m\u001b[0marray\u001b[0m\u001b[1;33m(\u001b[0m\u001b[0mcollege_data_made_it\u001b[0m\u001b[1;33m[\u001b[0m\u001b[1;33m:\u001b[0m\u001b[1;33m,\u001b[0m\u001b[1;36m3\u001b[0m\u001b[1;33m]\u001b[0m\u001b[1;33m)\u001b[0m\u001b[1;33m.\u001b[0m\u001b[0mastype\u001b[0m\u001b[1;33m(\u001b[0m\u001b[0mnp\u001b[0m\u001b[1;33m.\u001b[0m\u001b[0mfloat\u001b[0m\u001b[1;33m)\u001b[0m\u001b[1;33m\u001b[0m\u001b[1;33m\u001b[0m\u001b[0m\n\u001b[0;32m      5\u001b[0m \u001b[0mprint\u001b[0m\u001b[1;33m(\u001b[0m\u001b[0mY_data\u001b[0m\u001b[1;33m.\u001b[0m\u001b[0mshape\u001b[0m\u001b[1;33m)\u001b[0m\u001b[1;33m\u001b[0m\u001b[1;33m\u001b[0m\u001b[0m\n\u001b[1;32m----> 6\u001b[1;33m \u001b[0mregress\u001b[0m\u001b[1;33m(\u001b[0m\u001b[1;36m1\u001b[0m\u001b[1;33m,\u001b[0m \u001b[1;36m.3\u001b[0m\u001b[1;33m,\u001b[0m \u001b[0mdata\u001b[0m\u001b[1;33m)\u001b[0m\u001b[1;33m\u001b[0m\u001b[1;33m\u001b[0m\u001b[0m\n\u001b[0m",
      "\u001b[1;31mNameError\u001b[0m: name 'data' is not defined"
     ]
    }
   ]
  },
  {
   "cell_type": "code",
   "execution_count": null,
   "metadata": {},
   "outputs": [],
   "source": []
  }
 ]
}