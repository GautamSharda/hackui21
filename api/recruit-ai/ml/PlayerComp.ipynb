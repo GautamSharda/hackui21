{
 "metadata": {
  "language_info": {
   "codemirror_mode": {
    "name": "ipython",
    "version": 3
   },
   "file_extension": ".py",
   "mimetype": "text/x-python",
   "name": "python",
   "nbconvert_exporter": "python",
   "pygments_lexer": "ipython3",
   "version": "3.7.2"
  },
  "orig_nbformat": 2,
  "kernelspec": {
   "name": "python372jvsc74a57bd02399c2d73aba4493b4671804bb557320b7135cfc6623a831aff7502bddb72d8b",
   "display_name": "Python 3.7.2 32-bit"
  },
  "metadata": {
   "interpreter": {
    "hash": "2399c2d73aba4493b4671804bb557320b7135cfc6623a831aff7502bddb72d8b"
   }
  }
 },
 "nbformat": 4,
 "nbformat_minor": 2,
 "cells": [
  {
   "cell_type": "code",
   "execution_count": 22,
   "metadata": {},
   "outputs": [],
   "source": [
    "# imports and fixed params\n",
    "import numpy as np\n",
    "import pandas as pd\n",
    "import matplotlib.pyplot as plt\n",
    "from sklearn.cluster import KMeans\n",
    "from random import randrange"
   ]
  },
  {
   "cell_type": "code",
   "execution_count": 23,
   "metadata": {},
   "outputs": [
    {
     "output_type": "stream",
     "name": "stdout",
     "text": [
      "(16432, 11)\n"
     ]
    }
   ],
   "source": [
    "college_data = pd.read_csv(\"data/players2014.csv\").to_numpy()\n",
    "for i in range(15, 21):\n",
    "    college_data = np.append(college_data, pd.read_csv(\"data/players20%d.csv\" % i).to_numpy(), axis=0)\n",
    "college_data = college_data[college_data[:, 1].argsort()]\n",
    "print(college_data.shape)"
   ]
  },
  {
   "cell_type": "code",
   "execution_count": 24,
   "metadata": {},
   "outputs": [
    {
     "output_type": "stream",
     "name": "stdout",
     "text": [
      "(3850, 10)\n"
     ]
    }
   ],
   "source": [
    "#hs_data = pd.read_csv(\"data/basketball-1.csv\").to_numpy()\n",
    "#for i in range(2, 8):\n",
    "#    hs_data = np.append(hs_data, pd.read_csv(\"data/basketball-%d.csv\" % i).to_numpy(), axis=0)\n",
    "hs_data = pd.read_csv(\"data/hs_data_clean.csv\").to_numpy()\n",
    "print(hs_data.shape)"
   ]
  },
  {
   "cell_type": "code",
   "execution_count": 27,
   "metadata": {},
   "outputs": [
    {
     "output_type": "stream",
     "name": "stdout",
     "text": [
      "[['Mark Albers' 'G' 705 29.4 11.2 nan nan nan nan nan]\n ['T.j. Gray' 'G' 376 18.8 11.1 2.9 4.3 1.1 4.3 4.3]\n ['Garrett Thackeray' 'C, PF' 566 28.3 11.1 0.3 8.5 1.3 1.5 3.5]]\n"
     ]
    }
   ],
   "source": [
    "names = college_data[:,1]\n",
    "del_indices  = []\n",
    "for i in range(hs_data.shape[0]):\n",
    "    index = np.searchsorted(names, hs_data[i][0])\n",
    "    if index >= len(names) or names[index] != hs_data[i][0]:\n",
    "        del_indices.append(i)\n",
    "\n",
    "del_indices = np.array(del_indices)\n",
    "for i in del_indices:\n",
    "    hs_data_made_it = np.delete(hs_data, i, 0)\n",
    "    del_indices -= 1\n",
    "\n",
    "print(hs_data_made_it.shape)"
   ]
  },
  {
   "cell_type": "code",
   "execution_count": 28,
   "metadata": {
    "tags": []
   },
   "outputs": [
    {
     "output_type": "execute_result",
     "data": {
      "text/plain": [
       "[array(['Kameron Williams', 'PF, SF', 493, 21.4, 11.2, 2.3, 11.7, 3.8, 2.8,\n",
       "        4.5], dtype=object),\n",
       " array(['Bladen Ahl', nan, 664, 26.6, 11.2, 1.9, 4.4, 1.7, 3.4, 2.5],\n",
       "       dtype=object),\n",
       " array(['T.j. Gray', 'G', 376, 18.8, 11.1, 2.9, 4.3, 1.1, 4.3, 4.3],\n",
       "       dtype=object)]"
      ]
     },
     "metadata": {},
     "execution_count": 28
    }
   ],
   "source": [
    "def getPlayerComp(name):\n",
    "    player = []\n",
    "    best_players = []\n",
    "    best_score = 1000000000\n",
    "\n",
    "    for i in range(hs_data.shape[0]):    \n",
    "        if hs_data[i][0] == name:\n",
    "            player = hs_data[i]\n",
    "   \n",
    "    if not len(player):\n",
    "        return hs_data[[randrange(len(hs_data)-1), randrange(len(hs_data)-1),randrange(len(hs_data)-1)]]\n",
    "    for i in range(1, hs_data_made_it.shape[0]):\n",
    "        score = np.dot(player[2:].astype(np.float), hs_data[i][2:].astype(np.float))\n",
    "        if score < best_score:\n",
    "            best_score = best_score\n",
    "            best_players.append(hs_data[i])\n",
    "    return best_players[-3:]\n",
    "\n",
    "randrange(10)\n",
    "getPlayerComp(\"Jalen Blackmon\")\n"
   ]
  },
  {
   "cell_type": "code",
   "execution_count": null,
   "metadata": {},
   "outputs": [],
   "source": []
  }
 ]
}