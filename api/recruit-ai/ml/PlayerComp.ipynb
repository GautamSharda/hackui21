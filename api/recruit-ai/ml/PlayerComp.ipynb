{
 "metadata": {
  "language_info": {
   "codemirror_mode": {
    "name": "ipython",
    "version": 3
   },
   "file_extension": ".py",
   "mimetype": "text/x-python",
   "name": "python",
   "nbconvert_exporter": "python",
   "pygments_lexer": "ipython3",
   "version": "3.7.2"
  },
  "orig_nbformat": 2,
  "kernelspec": {
   "name": "python372jvsc74a57bd02399c2d73aba4493b4671804bb557320b7135cfc6623a831aff7502bddb72d8b",
   "display_name": "Python 3.7.2 32-bit"
  },
  "metadata": {
   "interpreter": {
    "hash": "2399c2d73aba4493b4671804bb557320b7135cfc6623a831aff7502bddb72d8b"
   }
  }
 },
 "nbformat": 4,
 "nbformat_minor": 2,
 "cells": [
  {
   "cell_type": "code",
   "execution_count": null,
   "metadata": {},
   "outputs": [],
   "source": []
  },
  {
   "cell_type": "code",
   "execution_count": null,
   "metadata": {},
   "outputs": [],
   "source": []
  },
  {
   "cell_type": "code",
   "execution_count": null,
   "metadata": {},
   "outputs": [],
   "source": []
  },
  {
   "cell_type": "code",
   "execution_count": null,
   "metadata": {},
   "outputs": [],
   "source": []
  },
  {
   "cell_type": "code",
   "execution_count": null,
   "metadata": {
    "tags": []
   },
   "outputs": [],
   "source": [
    "def getPlayerComp(name):\n",
    "    player = []\n",
    "    best_players = []\n",
    "    best_score = 1000000000\n",
    "\n",
    "    for i in range(hs_data.shape[0]):    \n",
    "        if hs_data[i][0] == name:\n",
    "            player = hs_data[i]\n",
    "   \n",
    "    if not len(player):\n",
    "        return hs_data[[randrange(len(hs_data)-1), randrange(len(hs_data)-1),randrange(len(hs_data)-1)]]\n",
    "    for i in range(1, hs_data_made_it.shape[0]):\n",
    "        dif = player[2:].astype(np.float), hs_data[i][2:].astype(np.float)\n",
    "        score = np.dot(dif,z)\n",
    "        if score < best_score:\n",
    "            best_score = best_score\n",
    "            best_players.append(hs_data[i])\n",
    "    return best_players[-3:]\n",
    "\n",
    "randrange(10)\n",
    "getPlayerComp(\"Jalen Blackmon\")\n"
   ]
  },
  {
   "cell_type": "code",
   "execution_count": null,
   "metadata": {},
   "outputs": [],
   "source": []
  }
 ]
}