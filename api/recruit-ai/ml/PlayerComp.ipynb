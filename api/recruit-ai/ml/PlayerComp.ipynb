{
 "metadata": {
  "language_info": {
   "codemirror_mode": {
    "name": "ipython",
    "version": 3
   },
   "file_extension": ".py",
   "mimetype": "text/x-python",
   "name": "python",
   "nbconvert_exporter": "python",
   "pygments_lexer": "ipython3",
   "version": "3.7.2"
  },
  "orig_nbformat": 2,
  "kernelspec": {
   "name": "python372jvsc74a57bd02399c2d73aba4493b4671804bb557320b7135cfc6623a831aff7502bddb72d8b",
   "display_name": "Python 3.7.2 32-bit"
  },
  "metadata": {
   "interpreter": {
    "hash": "2399c2d73aba4493b4671804bb557320b7135cfc6623a831aff7502bddb72d8b"
   }
  }
 },
 "nbformat": 4,
 "nbformat_minor": 2,
 "cells": [
  {
   "cell_type": "code",
   "execution_count": null,
   "metadata": {},
   "outputs": [],
   "source": [
    "# imports and fixed params\n",
    "import numpy as np\n",
    "import pandas as pd\n",
    "import matplotlib.pyplot as plt\n",
    "from sklearn.cluster import KMeans\n",
    "from random import randrange"
   ]
  },
  {
   "cell_type": "code",
   "execution_count": null,
   "metadata": {},
   "outputs": [],
   "source": [
    "college_data = pd.read_csv(\"data/players2014.csv\").to_numpy()\n",
    "for i in range(15, 21):\n",
    "    college_data = np.append(college_data, pd.read_csv(\"data/players20%d.csv\" % i).to_numpy(), axis=0)\n",
    "college_data = college_data[college_data[:, 1].argsort()]\n",
    "print(college_data.shape)"
   ]
  },
  {
   "cell_type": "code",
   "execution_count": null,
   "metadata": {},
   "outputs": [],
   "source": [
    "#hs_data = pd.read_csv(\"data/basketball-1.csv\").to_numpy()\n",
    "#for i in range(2, 8):\n",
    "#    hs_data = np.append(hs_data, pd.read_csv(\"data/basketball-%d.csv\" % i).to_numpy(), axis=0)\n",
    "hs_data = pd.read_csv(\"data/hs_data_clean.csv\").to_numpy()\n",
    "print(hs_data.shape)"
   ]
  },
  {
   "cell_type": "code",
   "execution_count": null,
   "metadata": {},
   "outputs": [],
   "source": [
    "names = college_data[:,1]\n",
    "del_indices  = []\n",
    "for i in range(hs_data.shape[0]):\n",
    "    index = np.searchsorted(names, hs_data[i][0])\n",
    "    if index >= len(names) or names[index] != hs_data[i][0]:\n",
    "        del_indices.append(i)\n",
    "\n",
    "del_indices = np.array(del_indices)\n",
    "for i in del_indices:\n",
    "    hs_data_made_it = np.delete(hs_data, i, 0)\n",
    "    del_indices -= 1\n",
    "\n",
    "print(hs_data_made_it.shape)"
   ]
  },
  {
   "cell_type": "code",
   "execution_count": null,
   "metadata": {
    "tags": []
   },
   "outputs": [],
   "source": [
    "def getPlayerComp(name):\n",
    "    player = []\n",
    "    best_players = []\n",
    "    best_score = 1000000000\n",
    "\n",
    "    for i in range(hs_data.shape[0]):    \n",
    "        if hs_data[i][0] == name:\n",
    "            player = hs_data[i]\n",
    "   \n",
    "    if not len(player):\n",
    "        return hs_data[[randrange(len(hs_data)-1), randrange(len(hs_data)-1),randrange(len(hs_data)-1)]]\n",
    "    for i in range(1, hs_data_made_it.shape[0]):\n",
    "        score = np.dot(player[2:].astype(np.float), hs_data[i][2:].astype(np.float))\n",
    "        if score < best_score:\n",
    "            best_score = best_score\n",
    "            best_players.append(hs_data[i])\n",
    "    return best_players[-3:]\n",
    "\n",
    "randrange(10)\n",
    "getPlayerComp(\"Jalen Blackmon\")\n"
   ]
  },
  {
   "cell_type": "code",
   "execution_count": null,
   "metadata": {},
   "outputs": [],
   "source": []
  }
 ]
}